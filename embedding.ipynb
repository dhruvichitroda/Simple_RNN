{
 "cells": [
  {
   "cell_type": "code",
   "execution_count": 1,
   "id": "b1a4795e",
   "metadata": {},
   "outputs": [],
   "source": [
    "from tensorflow.keras.preprocessing.text import one_hot "
   ]
  },
  {
   "cell_type": "code",
   "execution_count": 2,
   "id": "7fc04516",
   "metadata": {},
   "outputs": [],
   "source": [
    "sent=['the glass of milk',\n",
    "      'the glass of juice',\n",
    "      'the cup of tea',\n",
    "      'i am a good boy',\n",
    "      'i am a good devloper',\n",
    "      'understand the meaning of words',\n",
    "      'your videos are good']"
   ]
  },
  {
   "cell_type": "code",
   "execution_count": 3,
   "id": "cca5810c",
   "metadata": {},
   "outputs": [
    {
     "data": {
      "text/plain": [
       "['the glass of milk',\n",
       " 'the glass of juice',\n",
       " 'the cup of tea',\n",
       " 'i am a good boy',\n",
       " 'i am a good devloper',\n",
       " 'understand the meaning of words',\n",
       " 'your videos are good']"
      ]
     },
     "execution_count": 3,
     "metadata": {},
     "output_type": "execute_result"
    }
   ],
   "source": [
    "sent"
   ]
  },
  {
   "cell_type": "code",
   "execution_count": 4,
   "id": "42e213e2",
   "metadata": {},
   "outputs": [],
   "source": [
    "voc_size=10000"
   ]
  },
  {
   "cell_type": "code",
   "execution_count": 5,
   "id": "ef29f522",
   "metadata": {},
   "outputs": [
    {
     "data": {
      "text/plain": [
       "[[7968, 7738, 5913, 9026],\n",
       " [7968, 7738, 5913, 4438],\n",
       " [7968, 307, 5913, 9272],\n",
       " [4578, 6378, 5262, 7563, 2277],\n",
       " [4578, 6378, 5262, 7563, 6299],\n",
       " [8661, 7968, 3571, 5913, 5619],\n",
       " [4522, 2627, 1102, 7563]]"
      ]
     },
     "execution_count": 5,
     "metadata": {},
     "output_type": "execute_result"
    }
   ],
   "source": [
    "one_hot_repr=[one_hot(words,voc_size)for words in sent]\n",
    "one_hot_repr"
   ]
  },
  {
   "cell_type": "code",
   "execution_count": 6,
   "id": "074eb33c",
   "metadata": {},
   "outputs": [],
   "source": [
    "from tensorflow.keras.layers import Embedding\n",
    "from tensorflow.keras.utils import pad_sequences\n",
    "from tensorflow.keras.models import Sequential"
   ]
  },
  {
   "cell_type": "code",
   "execution_count": 7,
   "id": "ad5aa031",
   "metadata": {},
   "outputs": [],
   "source": [
    "import numpy as np"
   ]
  },
  {
   "cell_type": "code",
   "execution_count": 8,
   "id": "2aa422e0",
   "metadata": {},
   "outputs": [
    {
     "name": "stdout",
     "output_type": "stream",
     "text": [
      "[[   0    0    0    0 7968 7738 5913 9026]\n",
      " [   0    0    0    0 7968 7738 5913 4438]\n",
      " [   0    0    0    0 7968  307 5913 9272]\n",
      " [   0    0    0 4578 6378 5262 7563 2277]\n",
      " [   0    0    0 4578 6378 5262 7563 6299]\n",
      " [   0    0    0 8661 7968 3571 5913 5619]\n",
      " [   0    0    0    0 4522 2627 1102 7563]]\n"
     ]
    }
   ],
   "source": [
    "sent_length=8\n",
    "embedded_docs=pad_sequences(one_hot_repr,padding='pre',maxlen=sent_length)\n",
    "print(embedded_docs)"
   ]
  },
  {
   "cell_type": "code",
   "execution_count": 9,
   "id": "2090f0eb",
   "metadata": {},
   "outputs": [],
   "source": [
    "embedding_dim=8"
   ]
  },
  {
   "cell_type": "code",
   "execution_count": 10,
   "id": "9d8d2057",
   "metadata": {},
   "outputs": [
    {
     "name": "stderr",
     "output_type": "stream",
     "text": [
      "c:\\Users\\ADMIN\\AppData\\Local\\Programs\\Python\\Python312\\Lib\\site-packages\\keras\\src\\layers\\core\\embedding.py:97: UserWarning: Argument `input_length` is deprecated. Just remove it.\n",
      "  warnings.warn(\n"
     ]
    }
   ],
   "source": [
    "model=Sequential()\n",
    "model.add(Embedding(voc_size,output_dim=embedding_dim,input_length=sent_length))\n",
    "model.compile('adam','mse')"
   ]
  },
  {
   "cell_type": "code",
   "execution_count": 11,
   "id": "570b105b",
   "metadata": {},
   "outputs": [],
   "source": [
    "model.build(input_shape=(None, sent_length))"
   ]
  },
  {
   "cell_type": "code",
   "execution_count": 12,
   "id": "2f25b85a",
   "metadata": {},
   "outputs": [
    {
     "data": {
      "text/html": [
       "<pre style=\"white-space:pre;overflow-x:auto;line-height:normal;font-family:Menlo,'DejaVu Sans Mono',consolas,'Courier New',monospace\"><span style=\"font-weight: bold\">Model: \"sequential\"</span>\n",
       "</pre>\n"
      ],
      "text/plain": [
       "\u001b[1mModel: \"sequential\"\u001b[0m\n"
      ]
     },
     "metadata": {},
     "output_type": "display_data"
    },
    {
     "data": {
      "text/html": [
       "<pre style=\"white-space:pre;overflow-x:auto;line-height:normal;font-family:Menlo,'DejaVu Sans Mono',consolas,'Courier New',monospace\">┏━━━━━━━━━━━━━━━━━━━━━━━━━━━━━━━━━┳━━━━━━━━━━━━━━━━━━━━━━━━┳━━━━━━━━━━━━━━━┓\n",
       "┃<span style=\"font-weight: bold\"> Layer (type)                    </span>┃<span style=\"font-weight: bold\"> Output Shape           </span>┃<span style=\"font-weight: bold\">       Param # </span>┃\n",
       "┡━━━━━━━━━━━━━━━━━━━━━━━━━━━━━━━━━╇━━━━━━━━━━━━━━━━━━━━━━━━╇━━━━━━━━━━━━━━━┩\n",
       "│ embedding (<span style=\"color: #0087ff; text-decoration-color: #0087ff\">Embedding</span>)           │ (<span style=\"color: #00d7ff; text-decoration-color: #00d7ff\">None</span>, <span style=\"color: #00af00; text-decoration-color: #00af00\">8</span>, <span style=\"color: #00af00; text-decoration-color: #00af00\">8</span>)           │        <span style=\"color: #00af00; text-decoration-color: #00af00\">80,000</span> │\n",
       "└─────────────────────────────────┴────────────────────────┴───────────────┘\n",
       "</pre>\n"
      ],
      "text/plain": [
       "┏━━━━━━━━━━━━━━━━━━━━━━━━━━━━━━━━━┳━━━━━━━━━━━━━━━━━━━━━━━━┳━━━━━━━━━━━━━━━┓\n",
       "┃\u001b[1m \u001b[0m\u001b[1mLayer (type)                   \u001b[0m\u001b[1m \u001b[0m┃\u001b[1m \u001b[0m\u001b[1mOutput Shape          \u001b[0m\u001b[1m \u001b[0m┃\u001b[1m \u001b[0m\u001b[1m      Param #\u001b[0m\u001b[1m \u001b[0m┃\n",
       "┡━━━━━━━━━━━━━━━━━━━━━━━━━━━━━━━━━╇━━━━━━━━━━━━━━━━━━━━━━━━╇━━━━━━━━━━━━━━━┩\n",
       "│ embedding (\u001b[38;5;33mEmbedding\u001b[0m)           │ (\u001b[38;5;45mNone\u001b[0m, \u001b[38;5;34m8\u001b[0m, \u001b[38;5;34m8\u001b[0m)           │        \u001b[38;5;34m80,000\u001b[0m │\n",
       "└─────────────────────────────────┴────────────────────────┴───────────────┘\n"
      ]
     },
     "metadata": {},
     "output_type": "display_data"
    },
    {
     "data": {
      "text/html": [
       "<pre style=\"white-space:pre;overflow-x:auto;line-height:normal;font-family:Menlo,'DejaVu Sans Mono',consolas,'Courier New',monospace\"><span style=\"font-weight: bold\"> Total params: </span><span style=\"color: #00af00; text-decoration-color: #00af00\">80,000</span> (312.50 KB)\n",
       "</pre>\n"
      ],
      "text/plain": [
       "\u001b[1m Total params: \u001b[0m\u001b[38;5;34m80,000\u001b[0m (312.50 KB)\n"
      ]
     },
     "metadata": {},
     "output_type": "display_data"
    },
    {
     "data": {
      "text/html": [
       "<pre style=\"white-space:pre;overflow-x:auto;line-height:normal;font-family:Menlo,'DejaVu Sans Mono',consolas,'Courier New',monospace\"><span style=\"font-weight: bold\"> Trainable params: </span><span style=\"color: #00af00; text-decoration-color: #00af00\">80,000</span> (312.50 KB)\n",
       "</pre>\n"
      ],
      "text/plain": [
       "\u001b[1m Trainable params: \u001b[0m\u001b[38;5;34m80,000\u001b[0m (312.50 KB)\n"
      ]
     },
     "metadata": {},
     "output_type": "display_data"
    },
    {
     "data": {
      "text/html": [
       "<pre style=\"white-space:pre;overflow-x:auto;line-height:normal;font-family:Menlo,'DejaVu Sans Mono',consolas,'Courier New',monospace\"><span style=\"font-weight: bold\"> Non-trainable params: </span><span style=\"color: #00af00; text-decoration-color: #00af00\">0</span> (0.00 B)\n",
       "</pre>\n"
      ],
      "text/plain": [
       "\u001b[1m Non-trainable params: \u001b[0m\u001b[38;5;34m0\u001b[0m (0.00 B)\n"
      ]
     },
     "metadata": {},
     "output_type": "display_data"
    }
   ],
   "source": [
    "model.summary()"
   ]
  },
  {
   "cell_type": "code",
   "execution_count": 33,
   "id": "0d83817d",
   "metadata": {},
   "outputs": [
    {
     "data": {
      "text/html": [
       "<pre style=\"white-space:pre;overflow-x:auto;line-height:normal;font-family:Menlo,'DejaVu Sans Mono',consolas,'Courier New',monospace\"><span style=\"font-weight: bold\">Model: \"sequential_10\"</span>\n",
       "</pre>\n"
      ],
      "text/plain": [
       "\u001b[1mModel: \"sequential_10\"\u001b[0m\n"
      ]
     },
     "metadata": {},
     "output_type": "display_data"
    },
    {
     "data": {
      "text/html": [
       "<pre style=\"white-space:pre;overflow-x:auto;line-height:normal;font-family:Menlo,'DejaVu Sans Mono',consolas,'Courier New',monospace\">┏━━━━━━━━━━━━━━━━━━━━━━━━━━━━━━━━━┳━━━━━━━━━━━━━━━━━━━━━━━━┳━━━━━━━━━━━━━━━┓\n",
       "┃<span style=\"font-weight: bold\"> Layer (type)                    </span>┃<span style=\"font-weight: bold\"> Output Shape           </span>┃<span style=\"font-weight: bold\">       Param # </span>┃\n",
       "┡━━━━━━━━━━━━━━━━━━━━━━━━━━━━━━━━━╇━━━━━━━━━━━━━━━━━━━━━━━━╇━━━━━━━━━━━━━━━┩\n",
       "│ embedding_7 (<span style=\"color: #0087ff; text-decoration-color: #0087ff\">Embedding</span>)         │ (<span style=\"color: #00d7ff; text-decoration-color: #00d7ff\">None</span>, <span style=\"color: #00af00; text-decoration-color: #00af00\">8</span>, <span style=\"color: #00af00; text-decoration-color: #00af00\">10</span>)          │       <span style=\"color: #00af00; text-decoration-color: #00af00\">100,000</span> │\n",
       "└─────────────────────────────────┴────────────────────────┴───────────────┘\n",
       "</pre>\n"
      ],
      "text/plain": [
       "┏━━━━━━━━━━━━━━━━━━━━━━━━━━━━━━━━━┳━━━━━━━━━━━━━━━━━━━━━━━━┳━━━━━━━━━━━━━━━┓\n",
       "┃\u001b[1m \u001b[0m\u001b[1mLayer (type)                   \u001b[0m\u001b[1m \u001b[0m┃\u001b[1m \u001b[0m\u001b[1mOutput Shape          \u001b[0m\u001b[1m \u001b[0m┃\u001b[1m \u001b[0m\u001b[1m      Param #\u001b[0m\u001b[1m \u001b[0m┃\n",
       "┡━━━━━━━━━━━━━━━━━━━━━━━━━━━━━━━━━╇━━━━━━━━━━━━━━━━━━━━━━━━╇━━━━━━━━━━━━━━━┩\n",
       "│ embedding_7 (\u001b[38;5;33mEmbedding\u001b[0m)         │ (\u001b[38;5;45mNone\u001b[0m, \u001b[38;5;34m8\u001b[0m, \u001b[38;5;34m10\u001b[0m)          │       \u001b[38;5;34m100,000\u001b[0m │\n",
       "└─────────────────────────────────┴────────────────────────┴───────────────┘\n"
      ]
     },
     "metadata": {},
     "output_type": "display_data"
    },
    {
     "data": {
      "text/html": [
       "<pre style=\"white-space:pre;overflow-x:auto;line-height:normal;font-family:Menlo,'DejaVu Sans Mono',consolas,'Courier New',monospace\"><span style=\"font-weight: bold\"> Total params: </span><span style=\"color: #00af00; text-decoration-color: #00af00\">100,000</span> (390.62 KB)\n",
       "</pre>\n"
      ],
      "text/plain": [
       "\u001b[1m Total params: \u001b[0m\u001b[38;5;34m100,000\u001b[0m (390.62 KB)\n"
      ]
     },
     "metadata": {},
     "output_type": "display_data"
    },
    {
     "data": {
      "text/html": [
       "<pre style=\"white-space:pre;overflow-x:auto;line-height:normal;font-family:Menlo,'DejaVu Sans Mono',consolas,'Courier New',monospace\"><span style=\"font-weight: bold\"> Trainable params: </span><span style=\"color: #00af00; text-decoration-color: #00af00\">100,000</span> (390.62 KB)\n",
       "</pre>\n"
      ],
      "text/plain": [
       "\u001b[1m Trainable params: \u001b[0m\u001b[38;5;34m100,000\u001b[0m (390.62 KB)\n"
      ]
     },
     "metadata": {},
     "output_type": "display_data"
    },
    {
     "data": {
      "text/html": [
       "<pre style=\"white-space:pre;overflow-x:auto;line-height:normal;font-family:Menlo,'DejaVu Sans Mono',consolas,'Courier New',monospace\"><span style=\"font-weight: bold\"> Non-trainable params: </span><span style=\"color: #00af00; text-decoration-color: #00af00\">0</span> (0.00 B)\n",
       "</pre>\n"
      ],
      "text/plain": [
       "\u001b[1m Non-trainable params: \u001b[0m\u001b[38;5;34m0\u001b[0m (0.00 B)\n"
      ]
     },
     "metadata": {},
     "output_type": "display_data"
    }
   ],
   "source": [
    "from tensorflow.keras.preprocessing.text import one_hot\n",
    "from tensorflow.keras.preprocessing.sequence import pad_sequences\n",
    "from tensorflow.keras.models import Sequential\n",
    "from tensorflow.keras.layers import Embedding\n",
    "\n",
    "# Sentences\n",
    "sent = [\n",
    "    'the glass of milk',\n",
    "    'the glass of juice',\n",
    "    'the cup of tea',\n",
    "    'i am a good boy',\n",
    "    'i am a good devloper',\n",
    "    'understand the meaning of words',\n",
    "    'your videos are good'\n",
    "]\n",
    "\n",
    "voc_size = 10000\n",
    "\n",
    "# One-hot encode\n",
    "onehot_repr = [one_hot(words, voc_size) for words in sent]\n",
    "\n",
    "# Pad\n",
    "sent_length = 8\n",
    "padded_docs = pad_sequences(onehot_repr, maxlen=sent_length, padding='pre')\n",
    "\n",
    "# Embedding model\n",
    "embedding_dim = 10\n",
    "model = Sequential()\n",
    "model.add(Embedding(input_dim=voc_size, output_dim=embedding_dim, input_length=sent_length))\n",
    "\n",
    "# 🔹 Either build manually\n",
    "model.build(input_shape=(None, sent_length))\n",
    "\n",
    "# OR run one forward pass\n",
    "# model(padded_docs)\n",
    "\n",
    "# Now summary will work properly\n",
    "model.summary()\n"
   ]
  },
  {
   "cell_type": "code",
   "execution_count": 13,
   "id": "7b6821e3",
   "metadata": {},
   "outputs": [
    {
     "name": "stdout",
     "output_type": "stream",
     "text": [
      "\u001b[1m1/1\u001b[0m \u001b[32m━━━━━━━━━━━━━━━━━━━━\u001b[0m\u001b[37m\u001b[0m \u001b[1m0s\u001b[0m 324ms/step\n"
     ]
    },
    {
     "data": {
      "text/plain": [
       "array([[[ 0.04007288, -0.02552054,  0.0329499 , -0.01615796,\n",
       "          0.04968366,  0.0392408 , -0.00181739,  0.03563786],\n",
       "        [ 0.04007288, -0.02552054,  0.0329499 , -0.01615796,\n",
       "          0.04968366,  0.0392408 , -0.00181739,  0.03563786],\n",
       "        [ 0.04007288, -0.02552054,  0.0329499 , -0.01615796,\n",
       "          0.04968366,  0.0392408 , -0.00181739,  0.03563786],\n",
       "        [ 0.04007288, -0.02552054,  0.0329499 , -0.01615796,\n",
       "          0.04968366,  0.0392408 , -0.00181739,  0.03563786],\n",
       "        [ 0.00635204,  0.04172304,  0.0087068 , -0.0120417 ,\n",
       "         -0.02530949,  0.01215297,  0.00051183,  0.04928633],\n",
       "        [ 0.02753762, -0.00898029,  0.02329249, -0.0466051 ,\n",
       "          0.00730376, -0.01660087,  0.04481346,  0.01248704],\n",
       "        [ 0.04819528,  0.0159633 ,  0.03963324, -0.0271042 ,\n",
       "         -0.01329045, -0.00566965, -0.01600152,  0.04815875],\n",
       "        [-0.04009002,  0.02648929,  0.04478299, -0.01741688,\n",
       "         -0.02602006, -0.03495004, -0.02905587,  0.00747546]],\n",
       "\n",
       "       [[ 0.04007288, -0.02552054,  0.0329499 , -0.01615796,\n",
       "          0.04968366,  0.0392408 , -0.00181739,  0.03563786],\n",
       "        [ 0.04007288, -0.02552054,  0.0329499 , -0.01615796,\n",
       "          0.04968366,  0.0392408 , -0.00181739,  0.03563786],\n",
       "        [ 0.04007288, -0.02552054,  0.0329499 , -0.01615796,\n",
       "          0.04968366,  0.0392408 , -0.00181739,  0.03563786],\n",
       "        [ 0.04007288, -0.02552054,  0.0329499 , -0.01615796,\n",
       "          0.04968366,  0.0392408 , -0.00181739,  0.03563786],\n",
       "        [ 0.00635204,  0.04172304,  0.0087068 , -0.0120417 ,\n",
       "         -0.02530949,  0.01215297,  0.00051183,  0.04928633],\n",
       "        [ 0.02753762, -0.00898029,  0.02329249, -0.0466051 ,\n",
       "          0.00730376, -0.01660087,  0.04481346,  0.01248704],\n",
       "        [ 0.04819528,  0.0159633 ,  0.03963324, -0.0271042 ,\n",
       "         -0.01329045, -0.00566965, -0.01600152,  0.04815875],\n",
       "        [ 0.02858517,  0.00184457,  0.04883162,  0.01823011,\n",
       "          0.02375949, -0.0286023 ,  0.02537921,  0.0147056 ]],\n",
       "\n",
       "       [[ 0.04007288, -0.02552054,  0.0329499 , -0.01615796,\n",
       "          0.04968366,  0.0392408 , -0.00181739,  0.03563786],\n",
       "        [ 0.04007288, -0.02552054,  0.0329499 , -0.01615796,\n",
       "          0.04968366,  0.0392408 , -0.00181739,  0.03563786],\n",
       "        [ 0.04007288, -0.02552054,  0.0329499 , -0.01615796,\n",
       "          0.04968366,  0.0392408 , -0.00181739,  0.03563786],\n",
       "        [ 0.04007288, -0.02552054,  0.0329499 , -0.01615796,\n",
       "          0.04968366,  0.0392408 , -0.00181739,  0.03563786],\n",
       "        [ 0.00635204,  0.04172304,  0.0087068 , -0.0120417 ,\n",
       "         -0.02530949,  0.01215297,  0.00051183,  0.04928633],\n",
       "        [-0.02105585,  0.00672877, -0.02238073, -0.02684292,\n",
       "          0.01981539,  0.02127233,  0.03205829,  0.00622924],\n",
       "        [ 0.04819528,  0.0159633 ,  0.03963324, -0.0271042 ,\n",
       "         -0.01329045, -0.00566965, -0.01600152,  0.04815875],\n",
       "        [ 0.02494861, -0.0341321 , -0.03928469, -0.00727656,\n",
       "          0.03436619, -0.00862104,  0.03604153, -0.00681807]],\n",
       "\n",
       "       [[ 0.04007288, -0.02552054,  0.0329499 , -0.01615796,\n",
       "          0.04968366,  0.0392408 , -0.00181739,  0.03563786],\n",
       "        [ 0.04007288, -0.02552054,  0.0329499 , -0.01615796,\n",
       "          0.04968366,  0.0392408 , -0.00181739,  0.03563786],\n",
       "        [ 0.04007288, -0.02552054,  0.0329499 , -0.01615796,\n",
       "          0.04968366,  0.0392408 , -0.00181739,  0.03563786],\n",
       "        [-0.03822166,  0.04324407, -0.01279464, -0.01484356,\n",
       "         -0.00165532, -0.02455691,  0.02196724, -0.04635763],\n",
       "        [ 0.02048523,  0.00552083,  0.01322376,  0.02133523,\n",
       "         -0.01739584, -0.03927982,  0.01571668,  0.00166999],\n",
       "        [ 0.00510882,  0.00424527, -0.01328626,  0.03479134,\n",
       "         -0.03609818,  0.04257548,  0.0060777 , -0.00844815],\n",
       "        [ 0.03140575, -0.04399801,  0.03416332,  0.02760334,\n",
       "          0.02488226,  0.02664108, -0.01066687, -0.01716372],\n",
       "        [-0.00284463, -0.03806978,  0.03299906,  0.04499853,\n",
       "          0.03011231,  0.02041331,  0.04776979,  0.02293748]],\n",
       "\n",
       "       [[ 0.04007288, -0.02552054,  0.0329499 , -0.01615796,\n",
       "          0.04968366,  0.0392408 , -0.00181739,  0.03563786],\n",
       "        [ 0.04007288, -0.02552054,  0.0329499 , -0.01615796,\n",
       "          0.04968366,  0.0392408 , -0.00181739,  0.03563786],\n",
       "        [ 0.04007288, -0.02552054,  0.0329499 , -0.01615796,\n",
       "          0.04968366,  0.0392408 , -0.00181739,  0.03563786],\n",
       "        [-0.03822166,  0.04324407, -0.01279464, -0.01484356,\n",
       "         -0.00165532, -0.02455691,  0.02196724, -0.04635763],\n",
       "        [ 0.02048523,  0.00552083,  0.01322376,  0.02133523,\n",
       "         -0.01739584, -0.03927982,  0.01571668,  0.00166999],\n",
       "        [ 0.00510882,  0.00424527, -0.01328626,  0.03479134,\n",
       "         -0.03609818,  0.04257548,  0.0060777 , -0.00844815],\n",
       "        [ 0.03140575, -0.04399801,  0.03416332,  0.02760334,\n",
       "          0.02488226,  0.02664108, -0.01066687, -0.01716372],\n",
       "        [ 0.00712634, -0.01471381,  0.01973131,  0.01174165,\n",
       "          0.04615751, -0.00260941, -0.01609652,  0.02639462]],\n",
       "\n",
       "       [[ 0.04007288, -0.02552054,  0.0329499 , -0.01615796,\n",
       "          0.04968366,  0.0392408 , -0.00181739,  0.03563786],\n",
       "        [ 0.04007288, -0.02552054,  0.0329499 , -0.01615796,\n",
       "          0.04968366,  0.0392408 , -0.00181739,  0.03563786],\n",
       "        [ 0.04007288, -0.02552054,  0.0329499 , -0.01615796,\n",
       "          0.04968366,  0.0392408 , -0.00181739,  0.03563786],\n",
       "        [-0.0329886 ,  0.00033612, -0.02839482, -0.00714265,\n",
       "         -0.02639629, -0.02757548,  0.03772905, -0.00912155],\n",
       "        [ 0.00635204,  0.04172304,  0.0087068 , -0.0120417 ,\n",
       "         -0.02530949,  0.01215297,  0.00051183,  0.04928633],\n",
       "        [-0.00544422,  0.04832702,  0.03972347,  0.04837343,\n",
       "          0.04809609, -0.04696733, -0.03718372,  0.03645286],\n",
       "        [ 0.04819528,  0.0159633 ,  0.03963324, -0.0271042 ,\n",
       "         -0.01329045, -0.00566965, -0.01600152,  0.04815875],\n",
       "        [ 0.00132198,  0.03577032,  0.01066381, -0.03065999,\n",
       "         -0.04196862,  0.01867065, -0.02327256,  0.00294737]],\n",
       "\n",
       "       [[ 0.04007288, -0.02552054,  0.0329499 , -0.01615796,\n",
       "          0.04968366,  0.0392408 , -0.00181739,  0.03563786],\n",
       "        [ 0.04007288, -0.02552054,  0.0329499 , -0.01615796,\n",
       "          0.04968366,  0.0392408 , -0.00181739,  0.03563786],\n",
       "        [ 0.04007288, -0.02552054,  0.0329499 , -0.01615796,\n",
       "          0.04968366,  0.0392408 , -0.00181739,  0.03563786],\n",
       "        [ 0.04007288, -0.02552054,  0.0329499 , -0.01615796,\n",
       "          0.04968366,  0.0392408 , -0.00181739,  0.03563786],\n",
       "        [ 0.01406696,  0.04916433, -0.00929526, -0.04419038,\n",
       "          0.0325327 ,  0.01001788,  0.03764704, -0.03227918],\n",
       "        [-0.00510719,  0.04676202, -0.0420245 ,  0.03509228,\n",
       "          0.03366271, -0.04268191,  0.01195836, -0.03943201],\n",
       "        [-0.01867685, -0.00193537,  0.04835005,  0.00983479,\n",
       "         -0.00733688,  0.02276606,  0.01597412, -0.01956373],\n",
       "        [ 0.03140575, -0.04399801,  0.03416332,  0.02760334,\n",
       "          0.02488226,  0.02664108, -0.01066687, -0.01716372]]],\n",
       "      dtype=float32)"
      ]
     },
     "execution_count": 13,
     "metadata": {},
     "output_type": "execute_result"
    }
   ],
   "source": [
    "model.predict(embedded_docs)"
   ]
  },
  {
   "cell_type": "code",
   "execution_count": 14,
   "id": "4c2db737",
   "metadata": {},
   "outputs": [
    {
     "data": {
      "text/plain": [
       "array([   0,    0,    0,    0, 7968, 7738, 5913, 9026], dtype=int32)"
      ]
     },
     "execution_count": 14,
     "metadata": {},
     "output_type": "execute_result"
    }
   ],
   "source": [
    "embedded_docs[0]"
   ]
  },
  {
   "cell_type": "code",
   "execution_count": 15,
   "id": "c9833a88",
   "metadata": {},
   "outputs": [
    {
     "name": "stdout",
     "output_type": "stream",
     "text": [
      "\u001b[1m1/1\u001b[0m \u001b[32m━━━━━━━━━━━━━━━━━━━━\u001b[0m\u001b[37m\u001b[0m \u001b[1m0s\u001b[0m 250ms/step\n"
     ]
    },
    {
     "data": {
      "text/plain": [
       "array([[[ 0.04007288, -0.02552054,  0.0329499 , -0.01615796,\n",
       "          0.04968366,  0.0392408 , -0.00181739,  0.03563786],\n",
       "        [ 0.04007288, -0.02552054,  0.0329499 , -0.01615796,\n",
       "          0.04968366,  0.0392408 , -0.00181739,  0.03563786],\n",
       "        [ 0.04007288, -0.02552054,  0.0329499 , -0.01615796,\n",
       "          0.04968366,  0.0392408 , -0.00181739,  0.03563786],\n",
       "        [ 0.04007288, -0.02552054,  0.0329499 , -0.01615796,\n",
       "          0.04968366,  0.0392408 , -0.00181739,  0.03563786],\n",
       "        [ 0.00635204,  0.04172304,  0.0087068 , -0.0120417 ,\n",
       "         -0.02530949,  0.01215297,  0.00051183,  0.04928633],\n",
       "        [ 0.02753762, -0.00898029,  0.02329249, -0.0466051 ,\n",
       "          0.00730376, -0.01660087,  0.04481346,  0.01248704],\n",
       "        [ 0.04819528,  0.0159633 ,  0.03963324, -0.0271042 ,\n",
       "         -0.01329045, -0.00566965, -0.01600152,  0.04815875],\n",
       "        [-0.04009002,  0.02648929,  0.04478299, -0.01741688,\n",
       "         -0.02602006, -0.03495004, -0.02905587,  0.00747546]]],\n",
       "      dtype=float32)"
      ]
     },
     "execution_count": 15,
     "metadata": {},
     "output_type": "execute_result"
    }
   ],
   "source": [
    "model.predict(np.array([embedded_docs[0]]))\n"
   ]
  },
  {
   "cell_type": "code",
   "execution_count": null,
   "id": "7693aaf8",
   "metadata": {},
   "outputs": [],
   "source": []
  },
  {
   "cell_type": "code",
   "execution_count": null,
   "id": "9d60f1c0",
   "metadata": {},
   "outputs": [],
   "source": []
  },
  {
   "cell_type": "code",
   "execution_count": null,
   "id": "26c298ce",
   "metadata": {},
   "outputs": [],
   "source": []
  },
  {
   "cell_type": "code",
   "execution_count": null,
   "id": "a4a06ce1",
   "metadata": {},
   "outputs": [],
   "source": []
  },
  {
   "cell_type": "code",
   "execution_count": null,
   "id": "186e34ed",
   "metadata": {},
   "outputs": [],
   "source": []
  }
 ],
 "metadata": {
  "kernelspec": {
   "display_name": "Python 3",
   "language": "python",
   "name": "python3"
  },
  "language_info": {
   "codemirror_mode": {
    "name": "ipython",
    "version": 3
   },
   "file_extension": ".py",
   "mimetype": "text/x-python",
   "name": "python",
   "nbconvert_exporter": "python",
   "pygments_lexer": "ipython3",
   "version": "3.12.4"
  }
 },
 "nbformat": 4,
 "nbformat_minor": 5
}
