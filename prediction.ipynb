{
 "cells": [
  {
   "cell_type": "code",
   "execution_count": 3,
   "id": "c8a12b81",
   "metadata": {},
   "outputs": [],
   "source": [
    "import numpy as np\n",
    "import tensorflow as tf\n",
    "from tensorflow.keras.datasets import imdb\n",
    "from tensorflow.keras.preprocessing import sequence\n",
    "from tensorflow.keras.models import load_model"
   ]
  },
  {
   "cell_type": "code",
   "execution_count": 5,
   "id": "39002357",
   "metadata": {},
   "outputs": [],
   "source": [
    "word_index = imdb.get_word_index()\n",
    "reverse_word_index = {value: key for key, value in word_index.items()}"
   ]
  },
  {
   "cell_type": "code",
   "execution_count": 6,
   "id": "9e45f8bb",
   "metadata": {},
   "outputs": [
    {
     "name": "stderr",
     "output_type": "stream",
     "text": [
      "WARNING:absl:Compiled the loaded model, but the compiled metrics have yet to be built. `model.compile_metrics` will be empty until you train or evaluate the model.\n"
     ]
    },
    {
     "data": {
      "text/html": [
       "<pre style=\"white-space:pre;overflow-x:auto;line-height:normal;font-family:Menlo,'DejaVu Sans Mono',consolas,'Courier New',monospace\"><span style=\"font-weight: bold\">Model: \"sequential\"</span>\n",
       "</pre>\n"
      ],
      "text/plain": [
       "\u001b[1mModel: \"sequential\"\u001b[0m\n"
      ]
     },
     "metadata": {},
     "output_type": "display_data"
    },
    {
     "data": {
      "text/html": [
       "<pre style=\"white-space:pre;overflow-x:auto;line-height:normal;font-family:Menlo,'DejaVu Sans Mono',consolas,'Courier New',monospace\">┏━━━━━━━━━━━━━━━━━━━━━━━━━━━━━━━━━┳━━━━━━━━━━━━━━━━━━━━━━━━┳━━━━━━━━━━━━━━━┓\n",
       "┃<span style=\"font-weight: bold\"> Layer (type)                    </span>┃<span style=\"font-weight: bold\"> Output Shape           </span>┃<span style=\"font-weight: bold\">       Param # </span>┃\n",
       "┡━━━━━━━━━━━━━━━━━━━━━━━━━━━━━━━━━╇━━━━━━━━━━━━━━━━━━━━━━━━╇━━━━━━━━━━━━━━━┩\n",
       "│ embedding (<span style=\"color: #0087ff; text-decoration-color: #0087ff\">Embedding</span>)           │ (<span style=\"color: #00d7ff; text-decoration-color: #00d7ff\">None</span>, <span style=\"color: #00af00; text-decoration-color: #00af00\">500</span>, <span style=\"color: #00af00; text-decoration-color: #00af00\">128</span>)       │     <span style=\"color: #00af00; text-decoration-color: #00af00\">1,280,000</span> │\n",
       "├─────────────────────────────────┼────────────────────────┼───────────────┤\n",
       "│ simple_rnn (<span style=\"color: #0087ff; text-decoration-color: #0087ff\">SimpleRNN</span>)          │ (<span style=\"color: #00d7ff; text-decoration-color: #00d7ff\">None</span>, <span style=\"color: #00af00; text-decoration-color: #00af00\">128</span>)            │        <span style=\"color: #00af00; text-decoration-color: #00af00\">32,896</span> │\n",
       "├─────────────────────────────────┼────────────────────────┼───────────────┤\n",
       "│ dense (<span style=\"color: #0087ff; text-decoration-color: #0087ff\">Dense</span>)                   │ (<span style=\"color: #00d7ff; text-decoration-color: #00d7ff\">None</span>, <span style=\"color: #00af00; text-decoration-color: #00af00\">1</span>)              │           <span style=\"color: #00af00; text-decoration-color: #00af00\">129</span> │\n",
       "└─────────────────────────────────┴────────────────────────┴───────────────┘\n",
       "</pre>\n"
      ],
      "text/plain": [
       "┏━━━━━━━━━━━━━━━━━━━━━━━━━━━━━━━━━┳━━━━━━━━━━━━━━━━━━━━━━━━┳━━━━━━━━━━━━━━━┓\n",
       "┃\u001b[1m \u001b[0m\u001b[1mLayer (type)                   \u001b[0m\u001b[1m \u001b[0m┃\u001b[1m \u001b[0m\u001b[1mOutput Shape          \u001b[0m\u001b[1m \u001b[0m┃\u001b[1m \u001b[0m\u001b[1m      Param #\u001b[0m\u001b[1m \u001b[0m┃\n",
       "┡━━━━━━━━━━━━━━━━━━━━━━━━━━━━━━━━━╇━━━━━━━━━━━━━━━━━━━━━━━━╇━━━━━━━━━━━━━━━┩\n",
       "│ embedding (\u001b[38;5;33mEmbedding\u001b[0m)           │ (\u001b[38;5;45mNone\u001b[0m, \u001b[38;5;34m500\u001b[0m, \u001b[38;5;34m128\u001b[0m)       │     \u001b[38;5;34m1,280,000\u001b[0m │\n",
       "├─────────────────────────────────┼────────────────────────┼───────────────┤\n",
       "│ simple_rnn (\u001b[38;5;33mSimpleRNN\u001b[0m)          │ (\u001b[38;5;45mNone\u001b[0m, \u001b[38;5;34m128\u001b[0m)            │        \u001b[38;5;34m32,896\u001b[0m │\n",
       "├─────────────────────────────────┼────────────────────────┼───────────────┤\n",
       "│ dense (\u001b[38;5;33mDense\u001b[0m)                   │ (\u001b[38;5;45mNone\u001b[0m, \u001b[38;5;34m1\u001b[0m)              │           \u001b[38;5;34m129\u001b[0m │\n",
       "└─────────────────────────────────┴────────────────────────┴───────────────┘\n"
      ]
     },
     "metadata": {},
     "output_type": "display_data"
    },
    {
     "data": {
      "text/html": [
       "<pre style=\"white-space:pre;overflow-x:auto;line-height:normal;font-family:Menlo,'DejaVu Sans Mono',consolas,'Courier New',monospace\"><span style=\"font-weight: bold\"> Total params: </span><span style=\"color: #00af00; text-decoration-color: #00af00\">1,313,027</span> (5.01 MB)\n",
       "</pre>\n"
      ],
      "text/plain": [
       "\u001b[1m Total params: \u001b[0m\u001b[38;5;34m1,313,027\u001b[0m (5.01 MB)\n"
      ]
     },
     "metadata": {},
     "output_type": "display_data"
    },
    {
     "data": {
      "text/html": [
       "<pre style=\"white-space:pre;overflow-x:auto;line-height:normal;font-family:Menlo,'DejaVu Sans Mono',consolas,'Courier New',monospace\"><span style=\"font-weight: bold\"> Trainable params: </span><span style=\"color: #00af00; text-decoration-color: #00af00\">1,313,025</span> (5.01 MB)\n",
       "</pre>\n"
      ],
      "text/plain": [
       "\u001b[1m Trainable params: \u001b[0m\u001b[38;5;34m1,313,025\u001b[0m (5.01 MB)\n"
      ]
     },
     "metadata": {},
     "output_type": "display_data"
    },
    {
     "data": {
      "text/html": [
       "<pre style=\"white-space:pre;overflow-x:auto;line-height:normal;font-family:Menlo,'DejaVu Sans Mono',consolas,'Courier New',monospace\"><span style=\"font-weight: bold\"> Non-trainable params: </span><span style=\"color: #00af00; text-decoration-color: #00af00\">0</span> (0.00 B)\n",
       "</pre>\n"
      ],
      "text/plain": [
       "\u001b[1m Non-trainable params: \u001b[0m\u001b[38;5;34m0\u001b[0m (0.00 B)\n"
      ]
     },
     "metadata": {},
     "output_type": "display_data"
    },
    {
     "data": {
      "text/html": [
       "<pre style=\"white-space:pre;overflow-x:auto;line-height:normal;font-family:Menlo,'DejaVu Sans Mono',consolas,'Courier New',monospace\"><span style=\"font-weight: bold\"> Optimizer params: </span><span style=\"color: #00af00; text-decoration-color: #00af00\">2</span> (12.00 B)\n",
       "</pre>\n"
      ],
      "text/plain": [
       "\u001b[1m Optimizer params: \u001b[0m\u001b[38;5;34m2\u001b[0m (12.00 B)\n"
      ]
     },
     "metadata": {},
     "output_type": "display_data"
    }
   ],
   "source": [
    "model = load_model('simple_rnn_imdb.h5')\n",
    "model.summary()"
   ]
  },
  {
   "cell_type": "code",
   "execution_count": 7,
   "id": "50548917",
   "metadata": {},
   "outputs": [
    {
     "data": {
      "text/plain": [
       "[array([[-0.76673347,  0.0543495 , -0.07175332, ...,  0.07372233,\n",
       "          0.28806588,  0.07525153],\n",
       "        [-0.037609  ,  0.00610408, -0.01900629, ...,  0.05546352,\n",
       "          0.00094727,  0.00169962],\n",
       "        [-0.09621517, -0.10838373, -0.11499687, ...,  0.08727996,\n",
       "         -0.10040832,  0.12119018],\n",
       "        ...,\n",
       "        [-0.10358953,  0.0291012 ,  0.02198502, ...,  0.04014   ,\n",
       "          0.01378465,  0.03726997],\n",
       "        [ 0.07204733, -0.03481217,  0.05332939, ..., -0.01990391,\n",
       "         -0.03179907,  0.0590159 ],\n",
       "        [-0.10491646, -0.11627962,  0.092055  , ...,  0.10208523,\n",
       "          0.06744928,  0.04570663]], shape=(10000, 128), dtype=float32),\n",
       " array([[-0.11640088, -0.03956676,  0.07530106, ...,  0.1570474 ,\n",
       "          0.08799464, -0.01104326],\n",
       "        [-0.04602699, -0.01693223, -0.07268882, ...,  0.075587  ,\n",
       "          0.06167065, -0.02098876],\n",
       "        [ 0.16813354, -0.08815384,  0.11035567, ..., -0.07242149,\n",
       "         -0.10634954,  0.03446207],\n",
       "        ...,\n",
       "        [ 0.01365713,  0.09782252,  0.13881887, ...,  0.0427364 ,\n",
       "         -0.01696841, -0.10690439],\n",
       "        [-0.06555513, -0.07615393,  0.1407814 , ...,  0.01221102,\n",
       "         -0.02202397,  0.05662513],\n",
       "        [ 0.12010617,  0.07108302, -0.07237779, ..., -0.00669486,\n",
       "         -0.10833956, -0.11492404]], shape=(128, 128), dtype=float32),\n",
       " array([[ 1.03904426e-01,  2.37183213e-01,  1.23510249e-01, ...,\n",
       "         -5.66407107e-02, -5.04424945e-02, -3.78098562e-02],\n",
       "        [-1.55982047e-01,  5.95665313e-02, -3.50136086e-02, ...,\n",
       "         -1.53290465e-01, -9.86200720e-02, -1.67025283e-01],\n",
       "        [-5.60090952e-02, -1.29499495e-01, -1.02337478e-02, ...,\n",
       "         -4.51654941e-02,  1.51443644e-04,  4.88740131e-02],\n",
       "        ...,\n",
       "        [-6.95515424e-02, -8.93114284e-02, -8.93107504e-02, ...,\n",
       "         -7.40960166e-02,  5.46482131e-02, -1.13014013e-01],\n",
       "        [-6.68329671e-02,  4.57201339e-02,  1.05163008e-02, ...,\n",
       "         -1.47351354e-01, -1.44870877e-01,  4.08540107e-02],\n",
       "        [-6.67445734e-02,  8.85777622e-02, -6.22366965e-02, ...,\n",
       "          5.39100822e-03, -8.98175389e-02,  1.54155463e-01]],\n",
       "       shape=(128, 128), dtype=float32),\n",
       " array([-0.00489946, -0.01486303,  0.00030559, -0.01062877, -0.03341861,\n",
       "        -0.00269963, -0.02614662, -0.02016689,  0.01345377, -0.02967907,\n",
       "        -0.0066752 , -0.00574181, -0.00769622, -0.01956188,  0.04953915,\n",
       "        -0.02806159, -0.00403618,  0.02565967, -0.00944094,  0.00823095,\n",
       "         0.00128215, -0.04403311, -0.00219397,  0.01897523, -0.01428579,\n",
       "        -0.00657513, -0.01108525, -0.0181732 , -0.02313191,  0.00734741,\n",
       "         0.00175257,  0.0055297 , -0.01707014, -0.02377882, -0.0028936 ,\n",
       "        -0.01085853, -0.01016092, -0.02086997, -0.02443747, -0.0040554 ,\n",
       "        -0.01651046, -0.00121012,  0.00491856,  0.003787  , -0.00920677,\n",
       "        -0.0259934 , -0.02435809, -0.01559713, -0.01012001, -0.01069078,\n",
       "         0.0091769 ,  0.00466825, -0.02451559, -0.03238047,  0.00455553,\n",
       "        -0.01775   , -0.02166594, -0.02918539, -0.01510684, -0.02075685,\n",
       "         0.06924377,  0.01160565,  0.00427794, -0.011162  ,  0.00424778,\n",
       "         0.00429996, -0.01228195, -0.01787699,  0.00122735, -0.00787047,\n",
       "        -0.0006288 ,  0.01468382, -0.02284957, -0.0228917 , -0.03024508,\n",
       "        -0.01169252,  0.00432813,  0.00960878, -0.00773291,  0.01203714,\n",
       "        -0.0318311 , -0.02976509,  0.01094672,  0.01117044, -0.02976281,\n",
       "        -0.01561935,  0.04098489, -0.0356159 , -0.03004956, -0.0156018 ,\n",
       "        -0.00381684, -0.01830054, -0.02226395, -0.02368071, -0.02940738,\n",
       "        -0.03189209,  0.00250373,  0.0024892 , -0.03020397, -0.02452845,\n",
       "        -0.02351548, -0.02604637,  0.00266941, -0.00581688, -0.02558815,\n",
       "         0.0296088 ,  0.00172393,  0.00452643, -0.01935665,  0.03643254,\n",
       "        -0.01239214,  0.01946291,  0.01740029, -0.00360882, -0.02274717,\n",
       "         0.00102881, -0.01186822,  0.02831125, -0.02017135, -0.02526583,\n",
       "        -0.01330023, -0.00270347,  0.03479544, -0.01134498, -0.02149829,\n",
       "         0.01005336, -0.01521057, -0.01364243], dtype=float32),\n",
       " array([[-0.21623886],\n",
       "        [-0.04939323],\n",
       "        [ 0.2269354 ],\n",
       "        [-0.01120451],\n",
       "        [ 0.52323043],\n",
       "        [-0.12051985],\n",
       "        [ 0.07451024],\n",
       "        [ 0.00851561],\n",
       "        [-0.0681031 ],\n",
       "        [-0.0581752 ],\n",
       "        [-0.15971011],\n",
       "        [-0.10870165],\n",
       "        [ 0.01170428],\n",
       "        [-0.14122695],\n",
       "        [-0.4735607 ],\n",
       "        [-0.09630831],\n",
       "        [ 0.02256427],\n",
       "        [-0.18841006],\n",
       "        [-0.18623872],\n",
       "        [ 0.21898785],\n",
       "        [-0.15972254],\n",
       "        [ 0.12907381],\n",
       "        [ 0.16387573],\n",
       "        [ 0.05681848],\n",
       "        [ 0.06225448],\n",
       "        [-0.26858497],\n",
       "        [-0.07671523],\n",
       "        [ 0.28548828],\n",
       "        [-0.02705962],\n",
       "        [ 0.13971093],\n",
       "        [-0.09880587],\n",
       "        [-0.04659168],\n",
       "        [-0.06461819],\n",
       "        [ 0.18250403],\n",
       "        [-0.06203584],\n",
       "        [-0.25596556],\n",
       "        [-0.08564659],\n",
       "        [-0.56624585],\n",
       "        [ 0.24746576],\n",
       "        [-0.05609832],\n",
       "        [ 0.06351288],\n",
       "        [ 0.04099725],\n",
       "        [ 0.13465294],\n",
       "        [ 0.1459134 ],\n",
       "        [-0.0712482 ],\n",
       "        [ 0.15199162],\n",
       "        [-0.08964251],\n",
       "        [-0.01391823],\n",
       "        [-0.22536682],\n",
       "        [-0.1581049 ],\n",
       "        [ 0.26139387],\n",
       "        [-0.07873759],\n",
       "        [-0.16981028],\n",
       "        [-0.02605885],\n",
       "        [-0.2723696 ],\n",
       "        [ 0.1512451 ],\n",
       "        [-0.0794436 ],\n",
       "        [ 0.2614193 ],\n",
       "        [ 0.11397938],\n",
       "        [ 0.14939171],\n",
       "        [ 0.38588676],\n",
       "        [-0.19304702],\n",
       "        [ 0.20187192],\n",
       "        [-0.63311887],\n",
       "        [ 0.12290742],\n",
       "        [ 0.08535293],\n",
       "        [ 0.0729242 ],\n",
       "        [ 0.03966768],\n",
       "        [ 0.16620268],\n",
       "        [-0.18732549],\n",
       "        [ 0.2248584 ],\n",
       "        [ 0.15830778],\n",
       "        [-0.13633193],\n",
       "        [-0.07590184],\n",
       "        [ 0.07373685],\n",
       "        [ 0.19137415],\n",
       "        [ 0.13051528],\n",
       "        [-0.12716258],\n",
       "        [-0.13141282],\n",
       "        [-0.13399015],\n",
       "        [ 0.22270802],\n",
       "        [ 0.12959456],\n",
       "        [ 0.21992095],\n",
       "        [ 0.22329663],\n",
       "        [-0.17116804],\n",
       "        [-0.1313727 ],\n",
       "        [-0.07501923],\n",
       "        [ 0.02827878],\n",
       "        [-0.0429114 ],\n",
       "        [ 0.26325968],\n",
       "        [ 0.13396412],\n",
       "        [-0.13768607],\n",
       "        [-0.15576798],\n",
       "        [ 0.05079335],\n",
       "        [ 0.0014822 ],\n",
       "        [-0.07207922],\n",
       "        [-0.22082122],\n",
       "        [-0.07802913],\n",
       "        [-0.30915293],\n",
       "        [-0.03925959],\n",
       "        [-0.12427232],\n",
       "        [ 0.03082254],\n",
       "        [ 0.2557987 ],\n",
       "        [ 0.1748476 ],\n",
       "        [ 0.11185797],\n",
       "        [ 0.21340564],\n",
       "        [-0.04543144],\n",
       "        [-0.08522954],\n",
       "        [-0.06301691],\n",
       "        [-0.20939659],\n",
       "        [-0.17342967],\n",
       "        [ 0.16335736],\n",
       "        [ 0.09956159],\n",
       "        [ 0.20246372],\n",
       "        [-0.20899369],\n",
       "        [-0.01130268],\n",
       "        [-0.12093669],\n",
       "        [ 0.03101929],\n",
       "        [-0.11189466],\n",
       "        [-0.0661017 ],\n",
       "        [ 0.08883495],\n",
       "        [ 0.014871  ],\n",
       "        [-0.29734468],\n",
       "        [ 0.13244733],\n",
       "        [ 0.2049249 ],\n",
       "        [ 0.22658268],\n",
       "        [-0.05017905],\n",
       "        [-0.0856984 ]], dtype=float32),\n",
       " array([-0.08474046], dtype=float32)]"
      ]
     },
     "execution_count": 7,
     "metadata": {},
     "output_type": "execute_result"
    }
   ],
   "source": [
    "model.get_weights()"
   ]
  },
  {
   "cell_type": "code",
   "execution_count": 16,
   "id": "cb07a31a",
   "metadata": {},
   "outputs": [],
   "source": [
    "def decode_review(encoded_review):\n",
    "    return ' '.join([reverse_word_index.get(i - 3, '?') for i in encoded_review])\n",
    "\n",
    "# Function to preprocess user input\n",
    "def preprocess_text(text):\n",
    "    words = text.lower().split()\n",
    "    encoded_review = [word_index.get(word, 2) for word in words]\n",
    "    padded_review = sequence.pad_sequences([encoded_review], maxlen=500)\n",
    "    return padded_review"
   ]
  },
  {
   "cell_type": "code",
   "execution_count": 17,
   "id": "80e951ee",
   "metadata": {},
   "outputs": [],
   "source": [
    "def predict_sentiment(review):\n",
    "    preprocessed_input=preprocess_text(review)\n",
    "\n",
    "    prediction=model.predict(preprocessed_input)\n",
    "\n",
    "    score = prediction[0][0]\n",
    "    sentiment = \"Positive 😊\" if score > 0.5 else \"Negative 😞\"\n",
    "    return sentiment, score\n"
   ]
  },
  {
   "cell_type": "code",
   "execution_count": 18,
   "id": "24d32e95",
   "metadata": {},
   "outputs": [
    {
     "name": "stdout",
     "output_type": "stream",
     "text": [
      "\u001b[1m1/1\u001b[0m \u001b[32m━━━━━━━━━━━━━━━━━━━━\u001b[0m\u001b[37m\u001b[0m \u001b[1m0s\u001b[0m 216ms/step\n",
      "Review: This movie was fantastic! The acting was great and the plot was thrilling.\n",
      "Sentiment: Positive 😊\n",
      "Prediction Score: 0.5172314643859863\n"
     ]
    }
   ],
   "source": [
    "example_review = \"This movie was fantastic! The acting was great and the plot was thrilling.\"\n",
    "\n",
    "sentiment,score=predict_sentiment(example_review)\n",
    "\n",
    "print(f'Review: {example_review}')\n",
    "print(f'Sentiment: {sentiment}')\n",
    "print(f'Prediction Score: {score}')"
   ]
  },
  {
   "cell_type": "code",
   "execution_count": null,
   "id": "9c7cecb2",
   "metadata": {},
   "outputs": [],
   "source": []
  }
 ],
 "metadata": {
  "kernelspec": {
   "display_name": "Python 3",
   "language": "python",
   "name": "python3"
  },
  "language_info": {
   "codemirror_mode": {
    "name": "ipython",
    "version": 3
   },
   "file_extension": ".py",
   "mimetype": "text/x-python",
   "name": "python",
   "nbconvert_exporter": "python",
   "pygments_lexer": "ipython3",
   "version": "3.12.4"
  }
 },
 "nbformat": 4,
 "nbformat_minor": 5
}
